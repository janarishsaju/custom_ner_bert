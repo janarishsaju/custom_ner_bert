{
  "nbformat": 4,
  "nbformat_minor": 0,
  "metadata": {
    "colab": {
      "provenance": []
    },
    "kernelspec": {
      "name": "python3",
      "display_name": "Python 3"
    },
    "language_info": {
      "name": "python"
    }
  },
  "cells": [
    {
      "cell_type": "code",
      "execution_count": null,
      "metadata": {
        "id": "iu65GkEF8ueH"
      },
      "outputs": [],
      "source": [
        "# Import necessary libraries\n",
        "import pandas as pd\n",
        "import re\n",
        "import numpy as np\n",
        "import nltk\n",
        "import seaborn as sns\n",
        "\n",
        "from nltk.corpus import stopwords\n",
        "from collections import Counter\n",
        "from sklearn.feature_extraction.text import CountVectorizer"
      ]
    },
    {
      "cell_type": "markdown",
      "source": [
        "**Data Import and Conversion**"
      ],
      "metadata": {
        "id": "nD60kRL49SNr"
      }
    },
    {
      "cell_type": "code",
      "source": [
        "# Read text file\n",
        "with open('train.txt') as f:\n",
        "    content = f.read()"
      ],
      "metadata": {
        "id": "1tNvzgG19pN1"
      },
      "execution_count": null,
      "outputs": []
    },
    {
      "cell_type": "code",
      "source": [
        "# Handle data formating \n",
        "content = content.replace(\"\\n\\n\", \"\\n\\t\\n\")\n",
        "content_all = content.split(\"\\n\\t\\n\")\n",
        "\n",
        "while(\"\" in content_all):\n",
        "    content_all.remove(\"\")\n",
        "\n",
        "while(\"\\n\" in content_all):\n",
        "    content_all.remove(\"\\n\")"
      ],
      "metadata": {
        "id": "M5_8U4v-9yml"
      },
      "execution_count": null,
      "outputs": []
    },
    {
      "cell_type": "code",
      "source": [
        "# Data conversion\n",
        "content_df = pd.DataFrame()\n",
        "for i in range(len(content_all)):\n",
        "    split_sent = content_all[i].split(\"\\n\")\n",
        "    tokens=[]\n",
        "    ner_tags=[]\n",
        "    ner_elements=[]\n",
        "    for j in range(len(split_sent)):\n",
        "        split_word = split_sent[j].split(\"\\t\")\n",
        "        tokens.append(split_word[0])\n",
        "        ner_tags.append(split_word[1])\n",
        "        sentence = \" \".join(tokens)\n",
        "        if split_word[1] != \"O\":\n",
        "          ner_elements.append(split_word[0])\n",
        "    content_df.loc[i,\"doc_id\"] = i\n",
        "    content_df.loc[i,\"sentence\"] = sentence\n",
        "    content_df.loc[i, \"tokens\"] = str(tokens)\n",
        "    content_df.loc[i,\"ner_tags\"] = \" \".join(ner_tags)\n",
        "    content_df.loc[i,\"ner_elements\"] = \" \".join(ner_elements)"
      ],
      "metadata": {
        "id": "DqP7HO_I97Ek"
      },
      "execution_count": null,
      "outputs": []
    },
    {
      "cell_type": "code",
      "source": [
        "# Print samples\n",
        "print(content_df.head())"
      ],
      "metadata": {
        "colab": {
          "base_uri": "https://localhost:8080/"
        },
        "id": "kfJrEGcR-MGv",
        "outputId": "c19dfdfd-8048-4fda-e730-89ef95418e23"
      },
      "execution_count": null,
      "outputs": [
        {
          "output_type": "stream",
          "name": "stdout",
          "text": [
            "   doc_id                                           sentence  \\\n",
            "0     0.0  @paulwalk It 's the view from where I 'm livin...   \n",
            "1     1.0  From Green Newsfeed : AHFA extends deadline fo...   \n",
            "2     2.0  Pxleyes Top 50 Photography Contest Pictures of...   \n",
            "3     3.0               today is my last day at the office .   \n",
            "4     4.0  4Dbling 's place til monday , party party part...   \n",
            "\n",
            "                                              tokens  \\\n",
            "0  ['@paulwalk', 'It', \"'s\", 'the', 'view', 'from...   \n",
            "1  ['From', 'Green', 'Newsfeed', ':', 'AHFA', 'ex...   \n",
            "2  ['Pxleyes', 'Top', '50', 'Photography', 'Conte...   \n",
            "3  ['today', 'is', 'my', 'last', 'day', 'at', 'th...   \n",
            "4  ['4Dbling', \"'s\", 'place', 'til', 'monday', ',...   \n",
            "\n",
            "                                            ner_tags  \\\n",
            "0  O O O O O O O O O O O O O O B-location I-locat...   \n",
            "1                O O O O B-group O O O O O O O O O O   \n",
            "2                B-corporation O O O O O O O O O O O   \n",
            "3                                  O O O O O O O O O   \n",
            "4                     B-person O O O O O O O O O O O   \n",
            "\n",
            "                ner_elements  \n",
            "0  Empire State Building ESB  \n",
            "1                       AHFA  \n",
            "2                    Pxleyes  \n",
            "3                             \n",
            "4                    4Dbling  \n"
          ]
        }
      ]
    },
    {
      "cell_type": "markdown",
      "source": [
        "# **Analyzing Text Statistics**\n",
        "\n",
        "---\n",
        "Those really help explore the fundamental characteristics of the text data.\n",
        "\n",
        "To do so, we will be mostly using histograms (continuous data) and bar charts (categorical data).\n"
      ],
      "metadata": {
        "id": "GlGdPm0Y-pXU"
      }
    },
    {
      "cell_type": "markdown",
      "source": [
        "**Histogram and Bar Charts**\n",
        "\n",
        "---\n",
        "The histogram shows that sentences range from 5 to 155 characters and generally, it is between 25 to 50 characters."
      ],
      "metadata": {
        "id": "8Vwgjfk-_g9-"
      }
    },
    {
      "cell_type": "code",
      "source": [
        "# Histogram and Bar Chart\n",
        "content_df['sentence'].str.len().hist()"
      ],
      "metadata": {
        "colab": {
          "base_uri": "https://localhost:8080/",
          "height": 283
        },
        "id": "CnhC9U4i-ZG5",
        "outputId": "5a2140f9-c669-496b-8a31-774a6af30e92"
      },
      "execution_count": null,
      "outputs": [
        {
          "output_type": "execute_result",
          "data": {
            "text/plain": [
              "<matplotlib.axes._subplots.AxesSubplot at 0x7fe22a884d60>"
            ]
          },
          "metadata": {},
          "execution_count": 6
        },
        {
          "output_type": "display_data",
          "data": {
            "text/plain": [
              "<Figure size 432x288 with 1 Axes>"
            ],
            "image/png": "[encoded data removed]"
          },
          "metadata": {
            "needs_background": "light"
          }
        }
      ]
    },
    {
      "cell_type": "markdown",
      "source": [
        "**Average Word Length**\n",
        "\n",
        "---\n",
        "let’s check the average word length in each sentence.\n",
        "\n",
        "The average word length ranges between 3 to 7 with 5 being the most common length. \n",
        "\n",
        "One reason why this may not be true is stopwords. Stopwords are the words that are most commonly used in any language such as “the”,” a”,” an” etc. "
      ],
      "metadata": {
        "id": "ub4KTqfDBG-h"
      }
    },
    {
      "cell_type": "code",
      "source": [
        "content_df['sentence'].str.split().apply(lambda x : [len(i) for i in x]).map(lambda x: np.mean(x)).hist()"
      ],
      "metadata": {
        "colab": {
          "base_uri": "https://localhost:8080/",
          "height": 283
        },
        "id": "tLvcgj_DBcam",
        "outputId": "ff11fec0-a57a-4451-98e0-477677ccf2d0"
      },
      "execution_count": null,
      "outputs": [
        {
          "output_type": "execute_result",
          "data": {
            "text/plain": [
              "<matplotlib.axes._subplots.AxesSubplot at 0x7fe22a78f1c0>"
            ]
          },
          "metadata": {},
          "execution_count": 7
        },
        {
          "output_type": "display_data",
          "data": {
            "text/plain": [
              "<Figure size 432x288 with 1 Axes>"
            ],
            "image/png": "[encoded data removed]"
          },
          "metadata": {
            "needs_background": "light"
          }
        }
      ]
    },
    {
      "cell_type": "markdown",
      "source": [
        "# **Most Influenced Words**\n",
        "\n",
        "---\n",
        "Find the most dominated words in the corpus"
      ],
      "metadata": {
        "id": "vbtSCe18CntW"
      }
    },
    {
      "cell_type": "code",
      "source": [
        "# NLTK\n",
        "nltk.download('stopwords')\n",
        "stop=set(stopwords.words('english'))"
      ],
      "metadata": {
        "colab": {
          "base_uri": "https://localhost:8080/"
        },
        "id": "-eDrbfnQDHLG",
        "outputId": "f5dd6f7f-1180-43af-9fdc-ded7a17b19c1"
      },
      "execution_count": null,
      "outputs": [
        {
          "output_type": "stream",
          "name": "stderr",
          "text": [
            "[nltk_data] Downloading package stopwords to /root/nltk_data...\n",
            "[nltk_data]   Unzipping corpora/stopwords.zip.\n"
          ]
        }
      ]
    },
    {
      "cell_type": "code",
      "source": [
        "# Create the corpus\n",
        "corpus=[]\n",
        "content_df[\"sentence\"] = content_df[\"sentence\"].apply(lambda words: ' '.join(word.lower() for word in words.split() if word not in stop))\n",
        "content_df[\"sentence\"] = content_df[\"sentence\"].str.replace('[^\\w\\s]','')\n",
        "new= content_df['sentence'].str.split()\n",
        "new=new.values.tolist()\n",
        "corpus=[word for i in new for word in i]\n",
        "\n",
        "from collections import defaultdict\n",
        "dic=defaultdict(int)\n",
        "for word in corpus:\n",
        "    if word in stop:\n",
        "        dic[word]+=1"
      ],
      "metadata": {
        "colab": {
          "base_uri": "https://localhost:8080/"
        },
        "id": "QuJQG5-rDQ52",
        "outputId": "63192367-77c9-4e0c-d384-d3c61794b290"
      },
      "execution_count": null,
      "outputs": [
        {
          "output_type": "stream",
          "name": "stderr",
          "text": [
            "<ipython-input-9-34ae3cd04e61>:4: FutureWarning: The default value of regex will change from True to False in a future version.\n",
            "  content_df[\"sentence\"] = content_df[\"sentence\"].str.replace('[^\\w\\s]','')\n"
          ]
        }
      ]
    },
    {
      "cell_type": "code",
      "source": [
        "# Create a Bar Plot\n",
        "counter=Counter(corpus)\n",
        "most=counter.most_common()\n",
        "\n",
        "x, y= [], []\n",
        "for word,count in most[:20]:\n",
        "    if (word not in stop):\n",
        "        x.append(word)\n",
        "        y.append(count)\n",
        "\n",
        "sns.barplot(x=y,y=x)"
      ],
      "metadata": {
        "colab": {
          "base_uri": "https://localhost:8080/",
          "height": 283
        },
        "id": "OB-pjNm4EIJ8",
        "outputId": "56a62430-4694-4e44-b737-38e2891730ec"
      },
      "execution_count": null,
      "outputs": [
        {
          "output_type": "execute_result",
          "data": {
            "text/plain": [
              "<matplotlib.axes._subplots.AxesSubplot at 0x7fe229e5f100>"
            ]
          },
          "metadata": {},
          "execution_count": 10
        },
        {
          "output_type": "display_data",
          "data": {
            "text/plain": [
              "<Figure size 432x288 with 1 Axes>"
            ],
            "image/png": "[encoded data removed]"
          },
          "metadata": {
            "needs_background": "light"
          }
        }
      ]
    },
    {
      "cell_type": "markdown",
      "source": [
        "# **Most Influential Entities**\n",
        "\n",
        "---\n",
        "Find the most influenced entities in the corpus"
      ],
      "metadata": {
        "id": "IlsCVkyfJTRw"
      }
    },
    {
      "cell_type": "code",
      "source": [
        "# Create the corpus for Entity Elements\n",
        "corpus=[]\n",
        "content_df[\"ner_elements\"] = content_df[\"ner_elements\"].apply(lambda words: ' '.join(word.lower() for word in words.split() if word not in stop))\n",
        "content_df[\"ner_elements\"] = content_df[\"ner_elements\"].str.replace('[^\\w\\s]','')\n",
        "new= content_df['ner_elements'].str.split()\n",
        "new=new.values.tolist()\n",
        "corpus=[word for i in new for word in i]\n",
        "\n",
        "from collections import defaultdict\n",
        "dic=defaultdict(int)\n",
        "for word in corpus:\n",
        "    if word in stop:\n",
        "        dic[word]+=1"
      ],
      "metadata": {
        "colab": {
          "base_uri": "https://localhost:8080/"
        },
        "id": "dc3ZWKwLJSyR",
        "outputId": "0ae61142-aa80-4a29-c1b9-a07240f37bd2"
      },
      "execution_count": null,
      "outputs": [
        {
          "output_type": "stream",
          "name": "stderr",
          "text": [
            "<ipython-input-11-1d028cf15673>:4: FutureWarning: The default value of regex will change from True to False in a future version.\n",
            "  content_df[\"ner_elements\"] = content_df[\"ner_elements\"].str.replace('[^\\w\\s]','')\n"
          ]
        }
      ]
    },
    {
      "cell_type": "code",
      "source": [
        "# Create a Bar Plot for dominent Entities\n",
        "counter=Counter(corpus)\n",
        "most=counter.most_common()\n",
        "\n",
        "x, y= [], []\n",
        "for word,count in most[:20]:\n",
        "    if (word not in stop):\n",
        "        x.append(word)\n",
        "        y.append(count)\n",
        "\n",
        "sns.barplot(x=y,y=x)"
      ],
      "metadata": {
        "colab": {
          "base_uri": "https://localhost:8080/",
          "height": 283
        },
        "id": "pLqdGZCWP04d",
        "outputId": "58e2c529-2694-4b38-880b-df4bd0bf765d"
      },
      "execution_count": null,
      "outputs": [
        {
          "output_type": "execute_result",
          "data": {
            "text/plain": [
              "<matplotlib.axes._subplots.AxesSubplot at 0x7fe229727730>"
            ]
          },
          "metadata": {},
          "execution_count": 12
        },
        {
          "output_type": "display_data",
          "data": {
            "text/plain": [
              "<Figure size 432x288 with 1 Axes>"
            ],
            "image/png": "[encoded data removed]"
          },
          "metadata": {
            "needs_background": "light"
          }
        }
      ]
    },
    {
      "cell_type": "markdown",
      "source": [
        "From the above plot we can see the corpus inflences more about the **Social Networks, Twitter, Facebook, Youtube**"
      ],
      "metadata": {
        "id": "KoVj4uE9QSJV"
      }
    },
    {
      "cell_type": "markdown",
      "source": [
        "# **Most Dominent Entity Label**\n",
        "\n",
        "---\n",
        "Find the most influenced entitie labels in the corpus"
      ],
      "metadata": {
        "id": "D2D9YXLpS0fu"
      }
    },
    {
      "cell_type": "code",
      "source": [
        "# Create the corpus for Entity Elements\n",
        "corpus=[]\n",
        "content_df[\"ner_tags\"] = content_df[\"ner_tags\"].apply(lambda words: ' '.join(word.lower() for word in words.split() if word not in stop))\n",
        "content_df[\"ner_tags\"] = content_df[\"ner_tags\"].str.replace('[^\\w\\s]','')\n",
        "new= content_df['ner_tags'].str.split()\n",
        "new=new.values.tolist()\n",
        "corpus=[word for i in new for word in i]\n",
        "\n",
        "from collections import defaultdict\n",
        "dic=defaultdict(int)\n",
        "for word in corpus:\n",
        "    if word in stop:\n",
        "        dic[word]+=1"
      ],
      "metadata": {
        "colab": {
          "base_uri": "https://localhost:8080/"
        },
        "id": "WEykWazFRHKq",
        "outputId": "294edcea-e939-4f3a-f98d-ee1c2b4f5a20"
      },
      "execution_count": null,
      "outputs": [
        {
          "output_type": "stream",
          "name": "stderr",
          "text": [
            "<ipython-input-13-88250c63cbe6>:4: FutureWarning: The default value of regex will change from True to False in a future version.\n",
            "  content_df[\"ner_tags\"] = content_df[\"ner_tags\"].str.replace('[^\\w\\s]','')\n"
          ]
        }
      ]
    },
    {
      "cell_type": "code",
      "source": [
        "# Create a Bar Plot for dominent Entities\n",
        "counter=Counter(corpus)\n",
        "most=counter.most_common()\n",
        "\n",
        "x, y= [], []\n",
        "for word,count in most[:20]:\n",
        "    if (word not in stop):\n",
        "        x.append(word)\n",
        "        y.append(count)\n",
        "\n",
        "sns.barplot(x=y,y=x)"
      ],
      "metadata": {
        "colab": {
          "base_uri": "https://localhost:8080/",
          "height": 283
        },
        "id": "p2RCE-RkTA-y",
        "outputId": "77873d16-07a8-409e-ed5a-c1731f4ecc41"
      },
      "execution_count": null,
      "outputs": [
        {
          "output_type": "execute_result",
          "data": {
            "text/plain": [
              "<matplotlib.axes._subplots.AxesSubplot at 0x7fe229681ee0>"
            ]
          },
          "metadata": {},
          "execution_count": 14
        },
        {
          "output_type": "display_data",
          "data": {
            "text/plain": [
              "<Figure size 432x288 with 1 Axes>"
            ],
            "image/png": "[encoded data removed]"
          },
          "metadata": {
            "needs_background": "light"
          }
        }
      ]
    },
    {
      "cell_type": "markdown",
      "source": [
        "From the above plot we can see the corpus inflences more about the entity labels **B-Person, B-Location, I-Person**"
      ],
      "metadata": {
        "id": "O314VK8-Te2l"
      }
    },
    {
      "cell_type": "markdown",
      "source": [
        "# **Ngram Exploration**\n",
        "\n",
        "---\n",
        "Ngrams are simply contiguous sequences of n words. Looking at most frequent n-grams can give you a better understanding of the context in which the word was used."
      ],
      "metadata": {
        "id": "qdMZJ6zHHGGZ"
      }
    },
    {
      "cell_type": "code",
      "source": [
        "# Code Snippet for Top N-grams Barchart\n",
        "def plot_top_ngrams_barchart(text, n=2):\n",
        "    stop=set(stopwords.words('english'))\n",
        "\n",
        "    new= text.str.split()\n",
        "    new=new.values.tolist()\n",
        "    corpus=[word for i in new for word in i]\n",
        "\n",
        "    def _get_top_ngram(corpus, n=None):\n",
        "        vec = CountVectorizer(ngram_range=(n, n)).fit(corpus)\n",
        "        bag_of_words = vec.transform(corpus)\n",
        "        sum_words = bag_of_words.sum(axis=0) \n",
        "        words_freq = [(word, sum_words[0, idx]) \n",
        "                      for word, idx in vec.vocabulary_.items()]\n",
        "        words_freq =sorted(words_freq, key = lambda x: x[1], reverse=True)\n",
        "        return words_freq[:10]\n",
        "\n",
        "    top_n_bigrams=_get_top_ngram(text,n)[:10]\n",
        "    x,y=map(list,zip(*top_n_bigrams))\n",
        "    sns.barplot(x=y,y=x)"
      ],
      "metadata": {
        "id": "WCUT4sdrHhYE"
      },
      "execution_count": null,
      "outputs": []
    },
    {
      "cell_type": "code",
      "source": [
        "# Bigram Plot\n",
        "plot_top_ngrams_barchart(content_df['sentence'],2)"
      ],
      "metadata": {
        "colab": {
          "base_uri": "https://localhost:8080/",
          "height": 265
        },
        "id": "zKVWBoA4IGuT",
        "outputId": "9f2b1ae9-0c5f-422e-9327-c3b6406a57ff"
      },
      "execution_count": null,
      "outputs": [
        {
          "output_type": "display_data",
          "data": {
            "text/plain": [
              "<Figure size 432x288 with 1 Axes>"
            ],
            "image/png": "[encoded data removed]"
          },
          "metadata": {
            "needs_background": "light"
          }
        }
      ]
    },
    {
      "cell_type": "code",
      "source": [
        "# Trigram Plot\n",
        "plot_top_ngrams_barchart(content_df['sentence'],3)"
      ],
      "metadata": {
        "colab": {
          "base_uri": "https://localhost:8080/",
          "height": 265
        },
        "id": "UQdsVRMbIUS6",
        "outputId": "2002be79-8704-49e0-a764-d6f73920106d"
      },
      "execution_count": null,
      "outputs": [
        {
          "output_type": "display_data",
          "data": {
            "text/plain": [
              "<Figure size 432x288 with 1 Axes>"
            ],
            "image/png": "[encoded data removed]"
          },
          "metadata": {
            "needs_background": "light"
          }
        }
      ]
    },
    {
      "cell_type": "markdown",
      "source": [
        "# **Outlier Analysis**\n",
        "\n",
        "---\n",
        "From the above Text Analytic Statistics. It seems good with the words.\n",
        "Let us check the relativity between the Special Characters and Entities"
      ],
      "metadata": {
        "id": "hGsag0s1Ytxy"
      }
    },
    {
      "cell_type": "code",
      "source": [
        "# collect the entities have Special Characters\n",
        "outliers = pd.DataFrame()\n",
        "doc_obj = []\n",
        "for i in range(len(content_all)):\n",
        "    split_sent = content_all[i].split(\"\\n\")\n",
        "    tokens=[]\n",
        "    ner_tags=[]\n",
        "    ner_elements=[]\n",
        "    for j in range(len(split_sent)):\n",
        "        split_word = split_sent[j].split(\"\\t\")\n",
        "        if split_word[1] != \"O\":\n",
        "            ner_elements.append(split_word[0])\n",
        "            ner_tags.append(split_word[1])\n",
        "        tokens.append(split_word[0])\n",
        "    sentence = (\" \".join(tokens))\n",
        "    if(len(ner_tags) > 0):\n",
        "        ner_tags_list=[]\n",
        "        for k in range(len(ner_tags)):\n",
        "            if (bool(re.match('^[a-zA-Z@#]*$',ner_elements[k]))!=True):\n",
        "                outliers.loc[i,\"doc_id\"] = i\n",
        "                outliers.loc[i,\"doc\"] = sentence\n",
        "                outliers.loc[i, \"tokens\"] = ner_elements[k]\n",
        "                outliers.loc[i,\"ner_tags\"] = ner_tags[k]"
      ],
      "metadata": {
        "id": "6754piuMZ8Rd"
      },
      "execution_count": null,
      "outputs": []
    },
    {
      "cell_type": "code",
      "source": [
        "# Print samples\n",
        "print(outliers.head())"
      ],
      "metadata": {
        "colab": {
          "base_uri": "https://localhost:8080/"
        },
        "id": "p1uVnyjpagl3",
        "outputId": "c787daca-bd32-4164-d60e-79029f894bbf"
      },
      "execution_count": null,
      "outputs": [
        {
          "output_type": "stream",
          "name": "stdout",
          "text": [
            "     doc_id                                                doc         tokens  \\\n",
            "4       4.0  4Dbling 's place til monday , party party part...        4Dbling   \n",
            "38     38.0  Really hope I can get to @glasgowfilm for Wint...             's   \n",
            "44     44.0  What Do S.F. Rabbis Eat Before and After Yom K...           S.F.   \n",
            "59     59.0  Yo kids ! Today 's ACF Friday Large Group is a...            G24   \n",
            "113   113.0  RT @ravenalexis Wanna meet me , @jessejane , @...  @kayden_kross   \n",
            "\n",
            "            ner_tags  \n",
            "4           B-person  \n",
            "38   I-creative-work  \n",
            "44        B-location  \n",
            "59        I-location  \n",
            "113         B-person  \n"
          ]
        }
      ]
    },
    {
      "cell_type": "code",
      "source": [
        "outliers.to_excel(\"outliers.xlsx\")"
      ],
      "metadata": {
        "id": "gZitXNfWfBUj"
      },
      "execution_count": null,
      "outputs": []
    },
    {
      "cell_type": "markdown",
      "source": [
        "From the above dataframe I am not saying that all the documents are outlier. \n",
        "\n",
        "---\n",
        "\n",
        "But look for some of the below documents"
      ],
      "metadata": {
        "id": "Li_Sy_7JeoBw"
      }
    },
    {
      "cell_type": "markdown",
      "source": [
        "# **Mismatch in Name Taggings**\n",
        "\n",
        "---\n",
        "\n",
        "***Doc_id: 113***\n",
        "\n",
        "RT @ravenalexis Wanna meet me , @jessejane , @rileysteele , and @kayden_kross ? Come to the Body Heat signing at Hustler Hollywood Sep 23rd 8-10pm\n",
        "\n",
        "***Doc_id: 1***\n",
        "\n",
        "@paulwalk It 's the view from where I 'm living for two weeks . Empire State Building = ESB . Pretty bad storm here last evening .\n",
        "\n",
        "\n",
        "***Uncommon Behaviour***: Here @ravenalexis, \"@jessejane , @rileysteele , and @kayden_kross\" is tagged as B-Person. But some of the douments are not tagged in the same way. \n",
        "\n",
        "look at doc_id:1 and doc_id:113\n",
        "\n",
        "\"@paulwalk\" is tagged as \"O\"\n",
        "\n",
        "\"@jessejane , @rileysteele , and @kayden_kross\" are tagged as B-Person\n",
        "\n",
        "---"
      ],
      "metadata": {
        "id": "tcDy6dKiNgqY"
      }
    },
    {
      "cell_type": "markdown",
      "source": [
        "## **Special Characters + Entities Overlapping**\n",
        "\n",
        "***Doc_id: 1746***\n",
        "\n",
        "I'm at Bowl Long Island ( 138 West Ave , Patchogue) . http://4sq.com/aX6N26\n",
        "\n",
        "\n",
        "***Need Standard Format***: Here \"Patchogue)\" is combined and tagged as B-Location. \n",
        "\n",
        "Expectation should be\n",
        "\n",
        "\"Patchogue\" is B-Location and \n",
        "\n",
        "\")\" is B-Location\"\n",
        "\n",
        "---\n",
        "\n",
        "\n",
        "***Doc_id: 1759***\n",
        "\n",
        "Free Romeo &amp; Julliet under the stars tonight thru Sunday in South Park- please retweet please come ! http://is.gd/ff482\n",
        "\n",
        "\n",
        "***Need Standard Format***: Here \"Park-\" is combined and tagged as B-Location."
      ],
      "metadata": {
        "id": "i23RQmnINRfR"
      }
    }
  ]
}